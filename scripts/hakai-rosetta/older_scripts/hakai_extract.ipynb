{
 "cells": [
  {
   "cell_type": "code",
   "execution_count": null,
   "metadata": {},
   "outputs": [],
   "source": [
    "#debugging log\n",
    "import logging\n",
    "from imp import reload\n",
    "\n",
    "reload(logging)\n",
    "LOG_FILENAME = 'extractlog.txt'\n",
    "\n",
    "logging.basicConfig(filename=LOG_FILENAME, level = logging.DEBUG, format = ' %(asctime)s - %(levelname)s - %(message)s')\n",
    "logging.debug('Start of program')\n",
    "\n",
    "\n",
    "#This will extract the relevant taxonomy and identification from the Hakai BLAST database FASTA file."
   ]
  }
 ],
 "metadata": {
  "kernelspec": {
   "display_name": "Python 3",
   "language": "python",
   "name": "python3"
  },
  "language_info": {
   "codemirror_mode": {
    "name": "ipython",
    "version": 3
   },
   "file_extension": ".py",
   "mimetype": "text/x-python",
   "name": "python",
   "nbconvert_exporter": "python",
   "pygments_lexer": "ipython3",
   "version": "3.8.5"
  }
 },
 "nbformat": 4,
 "nbformat_minor": 4
}
